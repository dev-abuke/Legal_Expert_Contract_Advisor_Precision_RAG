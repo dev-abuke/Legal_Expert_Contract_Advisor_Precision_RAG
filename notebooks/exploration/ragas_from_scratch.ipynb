{
 "cells": [
  {
   "cell_type": "code",
   "execution_count": 13,
   "metadata": {},
   "outputs": [
    {
     "name": "stdout",
     "output_type": "stream",
     "text": [
      "Note: you may need to restart the kernel to use updated packages.\n"
     ]
    }
   ],
   "source": [
    "pip install ragas==0.1.9 -q"
   ]
  },
  {
   "cell_type": "code",
   "execution_count": 1,
   "metadata": {},
   "outputs": [],
   "source": [
    "import os\n",
    "import pandas as pd"
   ]
  },
  {
   "cell_type": "code",
   "execution_count": 2,
   "metadata": {},
   "outputs": [
    {
     "data": {
      "text/plain": [
       "'/teamspace/studios/this_studio/Legal_Expert_Contract_Advisor_Using_Precision_RAG'"
      ]
     },
     "execution_count": 2,
     "metadata": {},
     "output_type": "execute_result"
    }
   ],
   "source": [
    "os.chdir('../../')\n",
    "os.getcwd()"
   ]
  },
  {
   "cell_type": "code",
   "execution_count": 20,
   "metadata": {},
   "outputs": [],
   "source": [
    "import yaml\n",
    "\n",
    "def load_config():\n",
    "    with open(\"data/evaluation/raptor.json\", \"r\") as f:\n",
    "        return yaml.safe_load(f)\n",
    "qa = load_config()"
   ]
  },
  {
   "cell_type": "code",
   "execution_count": 3,
   "metadata": {},
   "outputs": [],
   "source": [
    "import yaml\n",
    "\n",
    "def load_config():\n",
    "    with open(\"data/evaluation/robinson.json\", \"r\") as f:\n",
    "        return yaml.safe_load(f)\n",
    "qa = load_config()"
   ]
  },
  {
   "cell_type": "code",
   "execution_count": 21,
   "metadata": {},
   "outputs": [
    {
     "data": {
      "text/plain": [
       "[{'question': 'Under what circumstances and to what extent the Sellers are responsible for a breach of representations and warranties?',\n",
       "  'answer': 'Except in the case of fraud the Sellers have no liability for breach of representations and warranties (See section 10.01).'},\n",
       " {'question': 'Would the Sellers be responsible if after the closing it is determined that there were inaccuracies in the representation provided by them where such inaccuracies are the result of the Sellers’ gross negligence?',\n",
       "  'answer': 'No.'},\n",
       " {'question': 'How much is the escrow amount?',\n",
       "  'answer': 'The escrow amount is equal to $1,000,000.'},\n",
       " {'question': 'Is escrow amount greater than the Retention Amount?',\n",
       "  'answer': 'No.'},\n",
       " {'question': 'What is the purpose of the escrow?',\n",
       "  'answer': 'To serve as a recourse of the Buyer in case of post-closing adjustments of the purchase price. (See section 2.07(e)).'},\n",
       " {'question': 'May the Escrow Amount serve as a recourse for the Buyer in case of breach of representations by the Company?',\n",
       "  'answer': 'No.'},\n",
       " {'question': 'Are there any conditions to the closing?',\n",
       "  'answer': 'No as the signing and closing are simultaneous.'},\n",
       " {'question': 'Are Change of Control Payments considered a Seller Transaction Expense?',\n",
       "  'answer': 'Yes. (See defining of Sellers Transaction Expenses).'},\n",
       " {'question': 'Would the aggregate amount payable by the Buyer to the Sellers be affected if it is determined that the actual Closing Debt Amount is greater than the estimated Closing Debt Amount?',\n",
       "  'answer': 'Yes. (See Section 2.07).'},\n",
       " {'question': 'Does the Buyer need to pay the Employees Closing Bonus Amount directly to the Company’s employees?',\n",
       "  'answer': 'No. (See Section 2.10).'},\n",
       " {'question': 'Does any of the Sellers provide a representation with respect to any Tax matters related to the Company?',\n",
       "  'answer': 'No. Only the Company provides such a representation.'},\n",
       " {'question': 'Is any of the Sellers bound by a non-competition covenant after the Closing?',\n",
       "  'answer': 'No.'},\n",
       " {'question': 'Whose consent is required for the assignment of the Agreement by the Buyer?',\n",
       "  'answer': 'If the assignment is to an Affiliate or purchaser of all of the Buyer’s assets no consent is required. Otherwise the consent of the Company and the Seller Representative is required.'},\n",
       " {'question': 'Does the Buyer need the Sellers’ consent in the event of an assignment of the Agreement to a third party who is not a Buyer’s Affiliate?',\n",
       "  'answer': 'No. If the assignment is not part of a sale of all or substantially all of the Buyer’s assets the assignment requires the consent of the Company and the Seller’s Representative.'}]"
      ]
     },
     "execution_count": 21,
     "metadata": {},
     "output_type": "execute_result"
    }
   ],
   "source": [
    "qa"
   ]
  },
  {
   "cell_type": "code",
   "execution_count": 22,
   "metadata": {},
   "outputs": [],
   "source": [
    "question = [q['question'] for q in qa]\n",
    "ground_truth = [q['answer'] for q in qa]"
   ]
  },
  {
   "cell_type": "code",
   "execution_count": 24,
   "metadata": {},
   "outputs": [],
   "source": [
    "# get first 3 question\n",
    "three_question = question[:3]"
   ]
  },
  {
   "cell_type": "code",
   "execution_count": 25,
   "metadata": {},
   "outputs": [],
   "source": [
    "three_ground_truth = ground_truth[:3]"
   ]
  },
  {
   "cell_type": "code",
   "execution_count": 27,
   "metadata": {},
   "outputs": [
    {
     "data": {
      "text/plain": [
       "['Under what circumstances and to what extent the Sellers are responsible for a breach of representations and warranties?',\n",
       " 'Would the Sellers be responsible if after the closing it is determined that there were inaccuracies in the representation provided by them where such inaccuracies are the result of the Sellers’ gross negligence?',\n",
       " 'How much is the escrow amount?']"
      ]
     },
     "execution_count": 27,
     "metadata": {},
     "output_type": "execute_result"
    }
   ],
   "source": [
    "three_question"
   ]
  },
  {
   "cell_type": "code",
   "execution_count": 26,
   "metadata": {},
   "outputs": [
    {
     "data": {
      "text/plain": [
       "['Except in the case of fraud the Sellers have no liability for breach of representations and warranties (See section 10.01).',\n",
       " 'No.',\n",
       " 'The escrow amount is equal to $1,000,000.']"
      ]
     },
     "execution_count": 26,
     "metadata": {},
     "output_type": "execute_result"
    }
   ],
   "source": [
    "three_ground_truth"
   ]
  },
  {
   "cell_type": "code",
   "execution_count": 31,
   "metadata": {},
   "outputs": [
    {
     "name": "stdout",
     "output_type": "stream",
     "text": [
      "Based on the provided context, each Seller is responsible for a breach of representations and warranties solely as to themselves and not jointly with other Sellers. This means that each Seller is individually accountable for their own representations and warranties. If a Seller has any Liability to a broker, finder, or agent with respect to the Contemplated Transactions, they are required to satisfy this Liability in full if it is disclosed in Schedule 4.06. The Sellers are not collectively responsible for each other's breaches, and their responsibility is limited to their own actions and disclosures.\n",
      "Yes, the Sellers would be responsible if after the closing it is determined that there were inaccuracies in the representation provided by them where such inaccuracies are the result of the Sellers’ gross negligence. The context specifies that the Sellers’ Representative is not liable for actions or omissions except in cases of gross negligence, bad faith, or willful misconduct. Therefore, if the inaccuracies are due to the Sellers' gross negligence, they would be held responsible.\n",
      "The context provided does not specify the exact amount of the escrow.\n"
     ]
    }
   ],
   "source": [
    "import requests\n",
    "\n",
    "url = \"http://127.0.0.1:8000/qa/no_translation_500_50_semantic_hybrid_gpt35_DataRaptor\"\n",
    "answers = []\n",
    "contexts = []\n",
    "for q in three_question:\n",
    "    data = {\n",
    "        \"query\": q\n",
    "    }\n",
    "    response = requests.post(url, json=data)\n",
    "\n",
    "    print(response.json()['response'])\n",
    "\n",
    "    answers.append(response.json()['response'])\n",
    "    contexts.append(response.json()['context'])"
   ]
  },
  {
   "cell_type": "code",
   "execution_count": 32,
   "metadata": {},
   "outputs": [
    {
     "data": {
      "text/plain": [
       "[\"Based on the provided context, each Seller is responsible for a breach of representations and warranties solely as to themselves and not jointly with other Sellers. This means that each Seller is individually accountable for their own representations and warranties. If a Seller has any Liability to a broker, finder, or agent with respect to the Contemplated Transactions, they are required to satisfy this Liability in full if it is disclosed in Schedule 4.06. The Sellers are not collectively responsible for each other's breaches, and their responsibility is limited to their own actions and disclosures.\",\n",
       " \"Yes, the Sellers would be responsible if after the closing it is determined that there were inaccuracies in the representation provided by them where such inaccuracies are the result of the Sellers’ gross negligence. The context specifies that the Sellers’ Representative is not liable for actions or omissions except in cases of gross negligence, bad faith, or willful misconduct. Therefore, if the inaccuracies are due to the Sellers' gross negligence, they would be held responsible.\",\n",
       " 'The context provided does not specify the exact amount of the escrow.']"
      ]
     },
     "execution_count": 32,
     "metadata": {},
     "output_type": "execute_result"
    }
   ],
   "source": [
    "answers"
   ]
  },
  {
   "cell_type": "code",
   "execution_count": 33,
   "metadata": {},
   "outputs": [],
   "source": [
    "array_contexts = [[con] for con in contexts]"
   ]
  },
  {
   "cell_type": "code",
   "execution_count": 34,
   "metadata": {},
   "outputs": [
    {
     "data": {
      "text/plain": [
       "[['INDIVIDUAL REPRESENTATIONS AND WARRANTIES OF THE SELLERS.\\n\\nEach Seller severally, and not jointly, hereby represents and warrants to the Buyer, solely as to such Seller, that:\\n\\nOrganization.  In the case of each Seller that is not an individual, such Seller is duly organized, validly existing and in good standing (if such concept is recognized) under the laws of the jurisdiction of its organization.\\n\\nNo Brokers.  Except as disclosed in Schedule\\xa04.06, such Seller has no Liability that is or expected to be borne by any Acquired Company or the Buyer to any broker, finder or agent with respect to the Contemplated Transactions, and such Seller agrees to satisfy in full any Liability required to be disclosed on Schedule\\xa04.06.\\n\\n\\nREPRESENTATIONS AND WARRANTIES OF THE BUYER.\\n\\nThe Buyer represents and warrants to the Sellers that:\\n\\nThe Sellers’ Representative shall not be held liable by any of the Sellers for actions or omissions in exercising or failing to exercise all or any of the power and authority of the Sellers’ Representative pursuant to this Agreement, except in the case of the Sellers’ Representative’s gross negligence, bad faith or willful misconduct. The Sellers’ Representative shall be entitled to rely on the advice of counsel, public accountants or other independent experts that it reasonably determines to be experienced in the matter at issue, and will not be liable to any Seller for any action taken or omitted to be taken in good faith based on such advice. Each Seller will severally (and not jointly) indemnify (in accordance with its Pro Rata Percentage) the Sellers’ Representative from any Losses arising out of its serving as the Sellers’ Representative hereunder, except for Losses arising out of or caused by the Sellers’ Representative’s gross negligence, bad faith or willful misconduct. The Sellers’ Representative is serving in its capacity as such solely for purposes of administrative convenience, and is not personally liable in such capacity for any of the obligations of the Sellers hereunder, and the Buyer agrees that it will not look to the personal assets of the Sellers’ Representative, acting in such capacity, for the satisfaction of any obligations to be performed by the Sellers hereunder. Reliance on Appointment; Successor Sellers’ Representative. The Buyer may rely on the appointment and authority of the Sellers’ Representative granted pursuant to this Section 11.04 until receipt of written notice of the appointment of a successor Sellers’ Representative made in accordance with this Section 11.04. In so doing, the Buyer may rely on any and all actions taken by and decisions of the Sellers’ Representative under this Agreement and the Escrow Agreement notwithstanding any dispute or disagreement among any of the Sellers or the Sellers’ Representative with respect to any such action or decision without any Liability to, or obligation to inquire of, any Seller, the Sellers’ Representative or any other Person. Any decision, act, consent or instruction of the Sellers’ Representative shall constitute a decision of all the Sellers and shall be final and binding upon each of the Sellers. At any time after the Closing, with or without cause, by a written instrument that is signed in writing by holders of at least a majority-in-interest of the Sellers (determined by reference to their respective Pro Rata Percentages) and delivered to Parent, the Sellers may remove and designate a successor Sellers’ Representative; provided, that such successor Sellers’ Representative must be reasonably acceptable to Parent. If the Sellers’ Representative shall at any time resign or otherwise cease to function in its capacity as such for any reason whatsoever, and no successor that is reasonably acceptable to Parent is appointed by such holders of a majority-in-interest of the Sellers within ten (10) Business Days, then Parent shall have the right to appoint another Seller to act as the replacement Sellers’ Representative who shall serve as described in this Agreement and, under such circumstances, the Buyer shall be entitled to rely on any and all actions taken and decisions made by such replacement Sellers’ Representative. Entire Agreement.\\n\\nThe Sellers’ Representative shall not be held liable by any of the Sellers for actions or omissions in exercising or failing to exercise all or any of the power and authority of the Sellers’ Representative pursuant to this Agreement, except in the case of the Sellers’ Representative’s gross negligence, bad faith or willful misconduct. The Sellers’ Representative shall be entitled to rely on the advice of counsel, public accountants or other independent experts that it reasonably determines to be experienced in the matter at issue, and will not be liable to any Seller for any action taken or omitted to be taken in good faith based on such advice. Each Seller will severally (and not jointly) indemnify (in accordance with its Pro Rata Percentage) the Sellers’ Representative from any Losses arising out of its serving as the Sellers’ Representative hereunder, except for Losses arising out of or caused by the Sellers’ Representative’s gross negligence, bad faith or willful misconduct. The Sellers’ Representative is serving in its capacity as such solely for purposes of administrative convenience, and is not personally liable in such capacity for any of the obligations of the Sellers hereunder, and the Buyer agrees that it will not look to the personal assets of the Sellers’ Representative, acting in such capacity, for the satisfaction of any obligations to be performed by the Sellers hereunder. Reliance on Appointment; Successor Sellers’ Representative. The Buyer may rely on the appointment and authority of the Sellers’ Representative granted pursuant to this Section 11.04 until receipt of written notice of the appointment of a successor Sellers’ Representative made in accordance with this Section 11.04. In so doing, the Buyer may rely on any and all actions taken by and decisions of the Sellers’ Representative under this Agreement and the Escrow Agreement notwithstanding any dispute or disagreement among any of the Sellers or the Sellers’ Representative with respect to any such action or decision without any Liability to, or obligation to inquire of, any Seller, the Sellers’ Representative or any other Person. Any decision, act, consent or instruction of the Sellers’ Representative shall constitute a decision of all the Sellers and shall be final and binding upon each of the Sellers. At any time after the Closing, with or without cause, by a written instrument that is signed in writing by holders of at least a majority-in-interest of the Sellers (determined by reference to their respective Pro Rata Percentages) and delivered to Parent, the Sellers may remove and designate a successor Sellers’ Representative; provided, that such successor Sellers’ Representative must be reasonably acceptable to Parent. If the Sellers’ Representative shall at any time resign or otherwise cease to function in its capacity as such for any reason whatsoever, and no successor that is reasonably acceptable to Parent is appointed by such holders of a majority-in-interest of the Sellers within ten (10) Business Days, then Parent shall have the right to appoint another Seller to act as the replacement Sellers’ Representative who shall serve as described in this Agreement and, under such circumstances, the Buyer shall be entitled to rely on any and all actions taken and decisions made by such replacement Sellers’ Representative. Entire Agreement.'],\n",
       " ['Losses arising out of or caused by the Sellers’ Representative’s gross negligence, bad faith or willful misconduct.  The Sellers’ Representative is serving in its capacity as such solely for purposes of administrative convenience, and is not personally liable in such capacity for any of the obligations of the Sellers hereunder, and the Buyer agrees that it will not look to the personal assets of the Sellers’ Representative, acting in such capacity, for the satisfaction of any obligations to be\\n\\nThe Sellers’ Representative shall not be held liable by any of the Sellers for actions or omissions in exercising or failing to exercise all or any of the power and authority of the Sellers’ Representative pursuant to this Agreement, except in the case of the Sellers’ Representative’s gross negligence, bad faith or willful misconduct. The Sellers’ Representative shall be entitled to rely on the advice of counsel, public accountants or other independent experts that it reasonably determines to be experienced in the matter at issue, and will not be liable to any Seller for any action taken or omitted to be taken in good faith based on such advice. Each Seller will severally (and not jointly) indemnify (in accordance with its Pro Rata Percentage) the Sellers’ Representative from any Losses arising out of its serving as the Sellers’ Representative hereunder, except for Losses arising out of or caused by the Sellers’ Representative’s gross negligence, bad faith or willful misconduct. The Sellers’ Representative is serving in its capacity as such solely for purposes of administrative convenience, and is not personally liable in such capacity for any of the obligations of the Sellers hereunder, and the Buyer agrees that it will not look to the personal assets of the Sellers’ Representative, acting in such capacity, for the satisfaction of any obligations to be performed by the Sellers hereunder. Reliance on Appointment; Successor Sellers’ Representative. The Buyer may rely on the appointment and authority of the Sellers’ Representative granted pursuant to this Section 11.04 until receipt of written notice of the appointment of a successor Sellers’ Representative made in accordance with this Section 11.04. In so doing, the Buyer may rely on any and all actions taken by and decisions of the Sellers’ Representative under this Agreement and the Escrow Agreement notwithstanding any dispute or disagreement among any of the Sellers or the Sellers’ Representative with respect to any such action or decision without any Liability to, or obligation to inquire of, any Seller, the Sellers’ Representative or any other Person. Any decision, act, consent or instruction of the Sellers’ Representative shall constitute a decision of all the Sellers and shall be final and binding upon each of the Sellers. At any time after the Closing, with or without cause, by a written instrument that is signed in writing by holders of at least a majority-in-interest of the Sellers (determined by reference to their respective Pro Rata Percentages) and delivered to Parent, the Sellers may remove and designate a successor Sellers’ Representative; provided, that such successor Sellers’ Representative must be reasonably acceptable to Parent. If the Sellers’ Representative shall at any time resign or otherwise cease to function in its capacity as such for any reason whatsoever, and no successor that is reasonably acceptable to Parent is appointed by such holders of a majority-in-interest of the Sellers within ten (10) Business Days, then Parent shall have the right to appoint another Seller to act as the replacement Sellers’ Representative who shall serve as described in this Agreement and, under such circumstances, the Buyer shall be entitled to rely on any and all actions taken and decisions made by such replacement Sellers’ Representative. Entire Agreement.\\n\\nThe Sellers’ Representative shall not be held liable by any of the Sellers for actions or omissions in exercising or failing to exercise all or any of the power and authority of the Sellers’ Representative pursuant to this Agreement, except in the case of the Sellers’ Representative’s gross negligence, bad faith or willful misconduct. The Sellers’ Representative shall be entitled to rely on the advice of counsel, public accountants or other independent experts that it reasonably determines to be experienced in the matter at issue, and will not be liable to any Seller for any action taken or omitted to be taken in good faith based on such advice. Each Seller will severally (and not jointly) indemnify (in accordance with its Pro Rata Percentage) the Sellers’ Representative from any Losses arising out of its serving as the Sellers’ Representative hereunder, except for Losses arising out of or caused by the Sellers’ Representative’s gross negligence, bad faith or willful misconduct. The Sellers’ Representative is serving in its capacity as such solely for purposes of administrative convenience, and is not personally liable in such capacity for any of the obligations of the Sellers hereunder, and the Buyer agrees that it will not look to the personal assets of the Sellers’ Representative, acting in such capacity, for the satisfaction of any obligations to be performed by the Sellers hereunder. Reliance on Appointment; Successor Sellers’ Representative. The Buyer may rely on the appointment and authority of the Sellers’ Representative granted pursuant to this Section 11.04 until receipt of written notice of the appointment of a successor Sellers’ Representative made in accordance with this Section 11.04. In so doing, the Buyer may rely on any and all actions taken by and decisions of the Sellers’ Representative under this Agreement and the Escrow Agreement notwithstanding any dispute or disagreement among any of the Sellers or the Sellers’ Representative with respect to any such action or decision without any Liability to, or obligation to inquire of, any Seller, the Sellers’ Representative or any other Person. Any decision, act, consent or instruction of the Sellers’ Representative shall constitute a decision of all the Sellers and shall be final and binding upon each of the Sellers. At any time after the Closing, with or without cause, by a written instrument that is signed in writing by holders of at least a majority-in-interest of the Sellers (determined by reference to their respective Pro Rata Percentages) and delivered to Parent, the Sellers may remove and designate a successor Sellers’ Representative; provided, that such successor Sellers’ Representative must be reasonably acceptable to Parent. If the Sellers’ Representative shall at any time resign or otherwise cease to function in its capacity as such for any reason whatsoever, and no successor that is reasonably acceptable to Parent is appointed by such holders of a majority-in-interest of the Sellers within ten (10) Business Days, then Parent shall have the right to appoint another Seller to act as the replacement Sellers’ Representative who shall serve as described in this Agreement and, under such circumstances, the Buyer shall be entitled to rely on any and all actions taken and decisions made by such replacement Sellers’ Representative. Entire Agreement.\\n\\nLiability.  The Sellers’ Representative shall not be held liable by any of the Sellers for actions or omissions in exercising or failing to exercise all or any of the power and authority of the Sellers’ Representative pursuant to this Agreement, except in the case of the Sellers’ Representative’s gross negligence, bad faith or willful misconduct.  The Sellers’ Representative shall be entitled to rely on the advice of counsel, public accountants or other independent experts that it reasonably determines to be experienced in the matter at issue, and will not be liable to any Seller for any action taken or omitted to be taken in good faith based on such advice.  Each Seller will severally (and not jointly) indemnify (in accordance with its Pro Rata Percentage) the Sellers’ Representative from any Losses arising out of its serving as the Sellers’ Representative hereunder, except for Losses arising out of or caused by the Sellers’ Representative’s gross negligence, bad faith or willful misconduct.  The Sellers’ Representative is serving in its capacity as such solely for purposes of administrative convenience, and is not personally liable in such capacity for any of the obligations of the Sellers hereunder, and the Buyer agrees that it will not look to the personal assets of the Sellers’ Representative, acting in such capacity, for the satisfaction of any obligations to be performed by the Sellers hereunder.'],\n",
       " ['Purchase Price Adjustment.  If any of the Closing Cash Amount, the Closing Debt Amount or the Seller Transaction Expenses (as finally determined pursuant to this Section 2.07 and as set forth in the Final Closing Statement) differs from the estimated amounts thereof set forth in the Estimated Closing Statement, the Purchase Price shall be recalculated using such final figures in lieu of such estimated figures, and (i) the Buyer shall pay in cash to each Company Securityholder by wire transfer of immediately available funds its Pro Rata Percentage of the amount, if any, by which such re-calculated final Purchase Price exceeds the estimated Purchase Price paid at Closing in accordance with Section\\xa02.05(a)(i) and Section 2.07(a) and the Escrow Agent shall release the Escrow Amount to Company Securityholders in accordance with the Escrow Agreement or (ii) the amount, if any, by which such estimated Purchase Price paid at Closing in accordance with Section\\xa02.05(a)(i) and Section 2.07(a) exceeds such re-calculated final Purchase Price shall be paid to the Buyer, or its designee, in accordance with the terms of the Escrow Agreement (and any remaining balance of the Escrow Amount not required to be paid to the Buyer shall be released to Company Securityholders in accordance with the terms of the Escrow Agreement).\\n\\nEscrow.\\n\\nAt Closing, Buyer will deposit the Escrow Amount in escrow on behalf of the Sellers in accordance with the Escrow Agreement.  The Escrow Amount shall be held and, subject to Section 2.07, released to the Company Securityholders in accordance with the provisions of the Escrow Agreement with the Company Securityholders being entitled to share in such released amounts in accordance with their Pro Rata Percentages.  From and after the Closing, Buyer and the Sellers’ Representative will direct the\\n\\nAt Closing, Buyer will deposit the Escrow Amount in escrow on behalf of the Sellers in accordance with the Escrow Agreement.  The Escrow Amount shall be held and, subject to Section 2.07, released to the Company Securityholders in accordance with the provisions of the Escrow Agreement with the Company Securityholders being entitled to share in such released amounts in accordance with their Pro Rata Percentages.  From and after the Closing, Buyer and the Sellers’ Representative will direct the Escrow Agent to disburse payments from the Escrow Account in accordance with the purchase price adjustment provisions of this Agreement and the terms of the Escrow Agreement including: (a) in the case of any disbursement that is required by the terms of this Agreement and as to which there is no dispute (or as to which the disputing party has failed to notify the Escrow Agent and the other parties of its dispute in accordance with any applicable requirements under this Agreement and the Escrow Agreement), they will provide prompt joint payment instructions directing the Escrow Agent to make such disbursement and (b) in the case of a disbursement as to which either the Buyer or the Seller’s Representative has notified the other and the Escrow Agent (in accordance with any notice and timing requirements applicable under this Agreement and the Escrow Agreement) that there is a good faith dispute, they will provide joint payment instructions to the Escrow Agent to direct the appropriate\\n\\nEstimated Purchase Price. The Purchase Price payable at Closing under Section\\xa02.05(a)(i) (the “Estimated Purchase Price”) shall be calculated using the estimated Closing Debt Amount, estimated Closing Cash Amount and estimated Seller Transaction Expenses set forth on the Estimated Closing Statement. Proposed Final Closing Statement. Within sixty (60) calendar days after the Closing Date, the Company shall prepare or cause to be prepared, and will provide to the Sellers’ Representative, a written statement setting forth in reasonable detail its proposed final determination of the Closing Debt Amount, Closing Cash Amount, and the Seller Transaction Expenses (the “Proposed Final Closing Statement”). The Proposed Final Closing Statement will be prepared in accordance with the Accounting Principles and without giving effect to any changes resulting from the consummation of the Contemplated Transactions on the Closing Date. The Sellers’ Representative and its Representatives shall have reasonable access to the work papers and other books and records of the Acquired Companies and to the persons who prepared the Proposed Final Closing Statement, for purposes of assisting the Sellers’ Representative and its Representatives in their review of the Proposed Final Closing Statement. Dispute Notice. The Proposed Final Closing Statement (and the proposed final determinations of the Closing Debt Amount, the Closing Cash Amount, and the Seller Transaction Expenses reflected thereon) will be final, conclusive and binding on the parties unless the Sellers’ Representative provides a written notice (a “Dispute Notice”) to Buyer no later than the thirtieth (30th) Business Day after the delivery to the Sellers’ Representative of the Proposed Final Closing Statement. Any Dispute Notice must set forth in reasonable detail any item on the Proposed Final Closing Statement which the Sellers’ Representative believes has not been prepared in accordance with this Agreement. Any item or amount to which no dispute is raised in the Dispute Notice will be final, conclusive and binding on the parties on such thirtieth (30th) Business Day. Resolution of Disputes. Buyer and the Sellers’ Representative will attempt to promptly resolve the matters raised in any Dispute Notice in good faith. Beginning ten (10) Business Days after delivery of any Dispute Notice pursuant to Section 2.07(d), either Buyer or the Sellers’ Representative may provide written notice to the other (the “Dispute Submission Notice”) that it elects to submit the disputed items to a nationally recognized independent accounting firm chosen jointly by Buyer and the Sellers’ Representative (the “Accounting Firm”). The Accounting Firm will promptly, in accordance with the guidelines and procedures set forth in this Agreement, review only those unresolved items and amounts specifically set forth and objected to in the Dispute Notice and resolve the dispute with respect to each such specific unresolved item and amount in accordance with this Agreement. The Accounting Firm shall render a written decision as to each disputed matter, including a statement in reasonable detail of the basis for its decision. The fees, costs and expenses of the Accounting Firm will be allocated between Buyer, on the one hand, and Sellers’ Representative (on behalf of the Company Securityholders), on the other hand, based upon the percentage which the portion of the contested amount not awarded to Buyer, on the one hand, and Sellers’ Representative, on the other hand, bears to the amount actually contested by such Person, as determined by the Accounting Firm. The decision of the Accounting Firm with respect to the disputed items of the Proposed Final Closing Statement submitted to it will be final, conclusive and binding on the parties. As used herein, the Proposed Final Closing Statement as adjusted to reflect any changes agreed to by the parties and the decision of the Accounting Firm pursuant to this Section 2.07 is referred to herein as the “Final Closing Statement”. Each of the parties to this Agreement agrees to use its commercially reasonable efforts to cooperate with the Accounting Firm (including by executing a customary engagement letter reasonably acceptable to it) and to cause the Accounting Firm to resolve any such dispute as soon as practicable after the commencement of the Accounting Firm’s engagement. Purchase Price Adjustment. If any of the Closing Cash Amount, the Closing Debt Amount or the Seller Transaction Expenses (as finally determined pursuant to this Section 2.07 and as set forth in the Final Closing Statement) differs from the estimated amounts thereof set forth in the Estimated Closing Statement, the Purchase Price shall be recalculated using such final figures in lieu of such estimated figures, and (i) the Buyer shall pay in cash to each Company Securityholder by wire transfer of immediately available funds its Pro Rata Percentage of the amount, if any, by which such re-calculated final Purchase Price exceeds the estimated Purchase Price paid at Closing in accordance with Section\\xa02.05(a)(i) and Section 2.07(a) and the Escrow Agent shall release the Escrow Amount to Company Securityholders in accordance with the Escrow Agreement or (ii) the amount, if any, by which such estimated Purchase Price paid at Closing in accordance with Section\\xa02.05(a)(i) and Section 2.07(a) exceeds such re-calculated final Purchase Price shall be paid to the Buyer, or its designee, in accordance with the terms of the Escrow Agreement (and any remaining balance of the Escrow Amount not required to be paid to the Buyer shall be released to Company Securityholders in accordance with the terms of the Escrow Agreement). Escrow. At Closing, Buyer will deposit the Escrow Amount in escrow on behalf of the Sellers in accordance with the Escrow Agreement. The Escrow Amount shall be held and, subject to Section 2.07, released to the Company Securityholders in accordance with the provisions of the Escrow Agreement with the Company Securityholders being entitled to share in such released amounts in accordance with their Pro Rata Percentages. From and after the Closing, Buyer and the Sellers’ Representative will direct the Escrow Agent to disburse payments from the Escrow Account in accordance with the purchase price adjustment provisions of this Agreement and the terms of the Escrow Agreement including: (a) in the case of any disbursement that is required by the terms of this Agreement and as to which there is no dispute (or as to which the disputing party has failed to notify the Escrow Agent and the other parties of its dispute in accordance with any applicable requirements under this Agreement and the Escrow Agreement), they will provide prompt joint payment instructions directing the Escrow Agent to make such disbursement and (b) in the case of a disbursement as to which either the Buyer or the Seller’s Representative has notified the other and the Escrow Agent (in accordance with any notice and timing requirements applicable under this Agreement and the Escrow Agreement) that there is a good faith dispute, they will provide joint payment instructions to the Escrow Agent to direct the appropriate disbursement promptly upon the resolution, in accordance with the provisions of this Agreement, of such dispute. Recovery from the Escrow Amount shall constitute the Buyer’s exclusive remedy against the Company Securityholders in connection with any claim relating to any adjustments of the Purchase Price (as set forth in Section 2.07(e)) and any such claim shall expire upon the termination of the Escrow Agreement. Withholding Rights. (a)\\tNotwithstanding any other provision of this Agreement, each of the Buyer or anyone acting on its behalf, the Paying Agent, the Escrow Agent and the Section 102 Trustee and any other applicable withholding agent (each a “Payor”), shall be entitled to deduct and withhold from the Closing Cash Payment and from any other payments otherwise required pursuant to this Agreement, such amount in cash as the Buyer and/or such anyone acting on its behalf is required to deduct and withhold with respect to any payments under the Code or any provision of state, local, provincial or foreign law, unless the applicable Payee (as defined below) provides the Payor, at least five days prior to the proposed date of such payment, with a valid withholding certificate obtained from the applicable tax authorities, exempting the payment to such payee from withholding tax or reducing the amount thereof. To the extent that the amounts are so deducted or withheld, such withheld amounts shall be treated for all purposes of this Agreement as having been paid or issued, as applicable, to such Payee in respect of which such deduction and withholding was made and, upon request, the Payor shall promptly provide the applicable Payee with a document evidencing the amount so withheld and remitted to the Tax authority with respect to the payment made to such Payee. Notwithstanding the above provisions, with respect to Israeli Taxes, and in accordance with the Paying Agent undertaking provided to Buyer as required under Section 6.2.4.3 of the Income Tax Circular 19/2018 (Transaction for Sale of Rights in a Corporation that Includes Consideration that will be Transferred to the Company Stockholders at Future Dates) (the “Paying Agent Undertaking”), any consideration payable or otherwise to be delivered pursuant to this Agreement on the Closing to any Company Securityholder (other than holders of 102 Securities) or any other Person entitled to payments hereunder (each a “Payee”) will be retained by the Paying Agent, for the benefit of such Payee for a period of up to 180 days from the Closing Date or as otherwise requested by the ITA (the “Withholding Drop Date”), during which time such Payee may obtain a valid certificate or ruling issued by the ITA in form and substance reasonable acceptable to Buyer and the Paying Agent, which: (i) exempts Buyer and the Paying Agent from the duty to withhold Israeli Taxes with respect to such payment to Payee, (ii) determines the applicable rate or amounts of Israeli Taxes to be withheld from the payment due to such Payee, or (iii) provides any other instructions regarding the payment or withholding with respect to the applicable portion of the consideration due to such Payee as determined by the ITA (the “Valid Certificate”). The Paying Agent will act in accordance with the provisions of any Valid Certificate to Buyer and/or the Paying Agent, provided such Valid Certificate is provided not later than three Business Days prior to the Withholding Drop Date. If a Payee (i) does not provide Buyer or the Paying Agent with a Valid Certificate at least three Business Days prior to the Withholding Drop Date or (ii) submits a written request to the Paying Agent to release such Payee’s payment prior to \\u200ethe Withholding Drop Date without submitting a Valid Withholding Certificate, then the amount to be withheld and transferred to the ITA from the amounts payable to such Payee will be calculated according to the applicable withholding rate as reasonably determined by Buyer and the Paying Agent. Such amount will be delivered or caused to be delivered to the ITA by the Paying Agent, and the Paying Agent will release to such Payee the balance of the amount due to such Payee that is not so withheld. In the event that a Payor receives a written demand from the ITA to withhold any amount out of the amount held by such Payor for distribution to a particular Payee and transfer it to the ITA prior to the Withholding Drop Date, such Payor (i) will notify such Payee of such matter reasonably promptly after receipt of such demand, and provide such Payee with reasonable time (but in no event less than 7 days, unless otherwise required by the ITA) to attempt to delay such requirement or extend the period for complying with such requirement as evidenced by a written certificate, ruling or confirmation from the ITA, and (ii) to the extent that any such certificate, ruling or confirmation is not provided by such Payee to the Payor prior to the time required by the ITA, will transfer to the ITA any amount so demanded, including any interest, indexation and fines required by the ITA in respect thereof, and such amounts will be treated for all purposes of this Agreement as having been delivered and paid to such Payee. Any withholding made in Israel New Shekel (“NIS”) with respect to payments made hereunder in USD will be calculated based on the Exchange Rate on the most recent Business Day preceding the payment date, and the applicable Payee shall bear sole and exclusive Liability for any foreign currency conversion fee or commission or other fee, cost, Tax, duty or charge applicable to the conversion of such amount from USD to NIS, which such amount shall be deducted from payments to be made to such Payee. Notwithstanding anything to the contrary in this Agreement, with respect to holders of Options who are individuals and are not Israeli residents for Israeli Tax purposes, who were granted such awards in consideration solely for work or services performed entirely outside of Israel (and who will provide Buyer and Paying Agent, prior to any payment to them, no later than three Business Days before such payment is due, with a validly executed declaration in the form attached hereto as Exhibit [●] regarding their non-Israeli residence and confirmation that they were granted such awards in consideration solely for work or services performed entirely outside of Israel), such payments will not be subject to any withholding or deduction of Israeli Tax and, to the extent such individual are employed by the Company at the time of payment, will be made through the Company’s payroll payment system. If such declaration is not provided at least three Business Days prior to the day of the applicable payment, then such payment will be subject to tax withholding as will be reasonably determined by Buyer or the Paying Agent. Payments of Employee Closing Bonus. Prior to the date hereof, the Company has approved cash bonuses, the aggregate amount of which shall be equal to the Employee Closing Bonus Amount, to the individuals listed in Exhibit 2.10 (the “Employees Closing Bonus Beneficiaries”). At the Closing the Buyer shall deposit the Employee Closing Bonus Amount with the [Company] and shall cause the Company to pay through its payroll system to each Employees Closing Bonus Beneficiary its respective share the Employee Closing Bonus Amount in accordance with the allocation set for tin Exhibit 2.10. REPRESENTATIONS AND WARRANTIES REGARDING\\nTHE ACQUIRED COMPANIES.']]"
      ]
     },
     "execution_count": 34,
     "metadata": {},
     "output_type": "execute_result"
    }
   ],
   "source": [
    "array_contexts"
   ]
  },
  {
   "cell_type": "code",
   "execution_count": 8,
   "metadata": {},
   "outputs": [],
   "source": [
    "import json\n",
    "# incase kernel restart reun this to save the context and answer as a json file\n",
    "\n",
    "# save the context and answer as a json file\n",
    "with open(\"context.json\", \"w\") as f:\n",
    "    json.dump({\"context\": contexts, \"answer\": answers}, f)\n",
    "\n",
    "# read the json file\n",
    "with open(\"context.json\", \"r\") as f:\n",
    "    context = json.load(f)\n",
    "\n",
    "contexts = context['context']\n",
    "answers = context['answer']"
   ]
  },
  {
   "cell_type": "code",
   "execution_count": 11,
   "metadata": {},
   "outputs": [
    {
     "data": {
      "text/plain": [
       "(14, 14, 14, 14)"
      ]
     },
     "execution_count": 11,
     "metadata": {},
     "output_type": "execute_result"
    }
   ],
   "source": [
    "len(answers), len(contexts), len(question), len(ground_truth)"
   ]
  },
  {
   "cell_type": "code",
   "execution_count": 36,
   "metadata": {},
   "outputs": [],
   "source": [
    "from datasets import Dataset\n",
    "# To dict\n",
    "data = {\n",
    "    \"question\": three_question,\n",
    "    \"answer\": answers,\n",
    "    \"contexts\": array_contexts,\n",
    "    \"ground_truth\": three_ground_truth\n",
    "}\n",
    "\n",
    "# Convert dict to dataset\n",
    "dataset = Dataset.from_dict(data)"
   ]
  },
  {
   "cell_type": "code",
   "execution_count": 37,
   "metadata": {},
   "outputs": [
    {
     "data": {
      "text/plain": [
       "Dataset({\n",
       "    features: ['question', 'answer', 'contexts', 'ground_truth'],\n",
       "    num_rows: 3\n",
       "})"
      ]
     },
     "execution_count": 37,
     "metadata": {},
     "output_type": "execute_result"
    }
   ],
   "source": [
    "dataset"
   ]
  },
  {
   "cell_type": "code",
   "execution_count": 44,
   "metadata": {},
   "outputs": [
    {
     "data": {
      "application/vnd.jupyter.widget-view+json": {
       "model_id": "de183015c32b4d41ab15cafb9ebcf869",
       "version_major": 2,
       "version_minor": 0
      },
      "text/plain": [
       "Evaluating:   0%|          | 0/12 [00:00<?, ?it/s]"
      ]
     },
     "metadata": {},
     "output_type": "display_data"
    }
   ],
   "source": [
    "from ragas import evaluate\n",
    "from langchain_openai import ChatOpenAI\n",
    "from ragas.metrics import (\n",
    "    faithfulness,\n",
    "    answer_relevancy,\n",
    "    context_recall,\n",
    "    context_precision,\n",
    ")\n",
    "\n",
    "result = evaluate(\n",
    "    dataset = dataset, \n",
    "    llm = ChatOpenAI(temperature=0), # use gpt-4o to increase context window, but has high cost\n",
    "    # metrics=[\n",
    "    #     context_precision,\n",
    "    #     context_recall,\n",
    "    #     faithfulness,\n",
    "    #     answer_relevancy,\n",
    "    # ],\n",
    ")"
   ]
  },
  {
   "cell_type": "code",
   "execution_count": 45,
   "metadata": {},
   "outputs": [],
   "source": [
    "df = result.to_pandas()"
   ]
  },
  {
   "cell_type": "code",
   "execution_count": 46,
   "metadata": {},
   "outputs": [],
   "source": [
    "df.to_csv(\"data/evaluation/no_translation_500_50_semantic_hybrid_gpt35_DataRaptor.csv\")"
   ]
  },
  {
   "cell_type": "code",
   "execution_count": 29,
   "metadata": {},
   "outputs": [
    {
     "data": {
      "text/html": [
       "<div>\n",
       "<style scoped>\n",
       "    .dataframe tbody tr th:only-of-type {\n",
       "        vertical-align: middle;\n",
       "    }\n",
       "\n",
       "    .dataframe tbody tr th {\n",
       "        vertical-align: top;\n",
       "    }\n",
       "\n",
       "    .dataframe thead th {\n",
       "        text-align: right;\n",
       "    }\n",
       "</style>\n",
       "<table border=\"1\" class=\"dataframe\">\n",
       "  <thead>\n",
       "    <tr style=\"text-align: right;\">\n",
       "      <th></th>\n",
       "      <th>question</th>\n",
       "      <th>answer</th>\n",
       "      <th>contexts</th>\n",
       "      <th>ground_truth</th>\n",
       "      <th>context_precision</th>\n",
       "      <th>context_recall</th>\n",
       "      <th>faithfulness</th>\n",
       "      <th>answer_relevancy</th>\n",
       "    </tr>\n",
       "  </thead>\n",
       "  <tbody>\n",
       "    <tr>\n",
       "      <th>0</th>\n",
       "      <td>Who are the parties to the Agreement and what ...</td>\n",
       "      <td>The parties to the Agreement are the Buyer and...</td>\n",
       "      <td>['agreement\\n\\nNOW THEREFORE, in consideration...</td>\n",
       "      <td>Cloud Investments Ltd. (“Company”) and Jack Ro...</td>\n",
       "      <td>1.0</td>\n",
       "      <td>1.0</td>\n",
       "      <td>0.5</td>\n",
       "      <td>0.953996</td>\n",
       "    </tr>\n",
       "    <tr>\n",
       "      <th>1</th>\n",
       "      <td>What is the termination notice?</td>\n",
       "      <td>The termination notice is fourteen (14) days' ...</td>\n",
       "      <td>['Termination: Either party, at any given time...</td>\n",
       "      <td>According to section 4: 14 days for convenienc...</td>\n",
       "      <td>1.0</td>\n",
       "      <td>1.0</td>\n",
       "      <td>1.0</td>\n",
       "      <td>0.881419</td>\n",
       "    </tr>\n",
       "    <tr>\n",
       "      <th>2</th>\n",
       "      <td>What are the payments to the Advisor under the...</td>\n",
       "      <td>The payments to the Advisor under the Agreemen...</td>\n",
       "      <td>[\"Without derogating from the above, if it is ...</td>\n",
       "      <td>According to section 6: 1. Fees of $9 per hour...</td>\n",
       "      <td>0.0</td>\n",
       "      <td>0.0</td>\n",
       "      <td>1.0</td>\n",
       "      <td>0.900266</td>\n",
       "    </tr>\n",
       "  </tbody>\n",
       "</table>\n",
       "</div>"
      ],
      "text/plain": [
       "                                            question  \\\n",
       "0  Who are the parties to the Agreement and what ...   \n",
       "1                    What is the termination notice?   \n",
       "2  What are the payments to the Advisor under the...   \n",
       "\n",
       "                                              answer  \\\n",
       "0  The parties to the Agreement are the Buyer and...   \n",
       "1  The termination notice is fourteen (14) days' ...   \n",
       "2  The payments to the Advisor under the Agreemen...   \n",
       "\n",
       "                                            contexts  \\\n",
       "0  ['agreement\\n\\nNOW THEREFORE, in consideration...   \n",
       "1  ['Termination: Either party, at any given time...   \n",
       "2  [\"Without derogating from the above, if it is ...   \n",
       "\n",
       "                                        ground_truth  context_precision  \\\n",
       "0  Cloud Investments Ltd. (“Company”) and Jack Ro...                1.0   \n",
       "1  According to section 4: 14 days for convenienc...                1.0   \n",
       "2  According to section 6: 1. Fees of $9 per hour...                0.0   \n",
       "\n",
       "   context_recall  faithfulness  answer_relevancy  \n",
       "0             1.0           0.5          0.953996  \n",
       "1             1.0           1.0          0.881419  \n",
       "2             0.0           1.0          0.900266  "
      ]
     },
     "execution_count": 29,
     "metadata": {},
     "output_type": "execute_result"
    }
   ],
   "source": [
    "no_translation_500_50_semantic_hybrid_gpt35 = pd.read_csv(\"data/evaluation/no_translation_500_50_semantic_hybrid_gpt35_DataRobinson.csv\", index_col=0)\n",
    "no_translation_500_50_semantic_hybrid_gpt35"
   ]
  },
  {
   "cell_type": "code",
   "execution_count": 30,
   "metadata": {},
   "outputs": [
    {
     "name": "stdout",
     "output_type": "stream",
     "text": [
      "Average of All Scores is ::  76.96401545344405  %\n",
      "Average of Context Scores is ::  66.66666666333333  %\n",
      "The Avet]rage Generation Score ::  87.26136424355477  %\n",
      "Context Precision Score ::  66.66666665999999  %\n",
      "Context Recall Score ::  66.66666666666666  %\n",
      "Answer Relevancy Score ::  91.1893951537762  %\n",
      "Faithfulness Score ::  83.33333333333334  %\n"
     ]
    }
   ],
   "source": [
    "# calculate the average score of context precision per total score\n",
    "\n",
    "context_precision_score = no_translation_500_50_semantic_hybrid_gpt35['context_precision'].sum() / no_translation_500_50_semantic_hybrid_gpt35['context_precision'].count() * 100\n",
    "context_recall_score = no_translation_500_50_semantic_hybrid_gpt35['context_recall'].sum() / no_translation_500_50_semantic_hybrid_gpt35['context_recall'].count() * 100\n",
    "faithfulness_score = no_translation_500_50_semantic_hybrid_gpt35['faithfulness'].sum() / no_translation_500_50_semantic_hybrid_gpt35['faithfulness'].count() * 100\n",
    "answer_relevancy_score = no_translation_500_50_semantic_hybrid_gpt35['answer_relevancy'].sum() / no_translation_500_50_semantic_hybrid_gpt35['answer_relevancy'].count() * 100\n",
    "\n",
    "avg_total_score = (context_precision_score + context_recall_score + faithfulness_score + answer_relevancy_score) / 4\n",
    "\n",
    "avg_context_score = (context_precision_score + context_recall_score) / 2\n",
    "\n",
    "avg_generate_score = (faithfulness_score + answer_relevancy_score) / 2\n",
    "\n",
    "print(\"Average of All Scores is :: \", avg_total_score, \" %\")\n",
    "print(\"Average of Context Scores is :: \", avg_context_score, \" %\")\n",
    "print(\"The Avet]rage Generation Score :: \", avg_generate_score, \" %\")\n",
    "print(\"Context Precision Score :: \", context_precision_score, \" %\")\n",
    "print(\"Context Recall Score :: \", context_recall_score, \" %\")\n",
    "print(\"Answer Relevancy Score :: \", answer_relevancy_score, \" %\")\n",
    "print(\"Faithfulness Score :: \", faithfulness_score, \" %\")"
   ]
  },
  {
   "cell_type": "code",
   "execution_count": 47,
   "metadata": {},
   "outputs": [
    {
     "data": {
      "text/html": [
       "<div>\n",
       "<style scoped>\n",
       "    .dataframe tbody tr th:only-of-type {\n",
       "        vertical-align: middle;\n",
       "    }\n",
       "\n",
       "    .dataframe tbody tr th {\n",
       "        vertical-align: top;\n",
       "    }\n",
       "\n",
       "    .dataframe thead th {\n",
       "        text-align: right;\n",
       "    }\n",
       "</style>\n",
       "<table border=\"1\" class=\"dataframe\">\n",
       "  <thead>\n",
       "    <tr style=\"text-align: right;\">\n",
       "      <th></th>\n",
       "      <th>question</th>\n",
       "      <th>answer</th>\n",
       "      <th>contexts</th>\n",
       "      <th>ground_truth</th>\n",
       "      <th>answer_relevancy</th>\n",
       "      <th>context_precision</th>\n",
       "      <th>faithfulness</th>\n",
       "      <th>context_recall</th>\n",
       "    </tr>\n",
       "  </thead>\n",
       "  <tbody>\n",
       "    <tr>\n",
       "      <th>0</th>\n",
       "      <td>Under what circumstances and to what extent th...</td>\n",
       "      <td>Based on the provided context, each Seller is ...</td>\n",
       "      <td>['INDIVIDUAL REPRESENTATIONS AND WARRANTIES OF...</td>\n",
       "      <td>Except in the case of fraud the Sellers have n...</td>\n",
       "      <td>0.911028</td>\n",
       "      <td>1.0</td>\n",
       "      <td>1.00</td>\n",
       "      <td>0.0</td>\n",
       "    </tr>\n",
       "    <tr>\n",
       "      <th>1</th>\n",
       "      <td>Would the Sellers be responsible if after the ...</td>\n",
       "      <td>Yes, the Sellers would be responsible if after...</td>\n",
       "      <td>['Losses arising out of or caused by the Selle...</td>\n",
       "      <td>No.</td>\n",
       "      <td>0.944305</td>\n",
       "      <td>1.0</td>\n",
       "      <td>0.25</td>\n",
       "      <td>1.0</td>\n",
       "    </tr>\n",
       "    <tr>\n",
       "      <th>2</th>\n",
       "      <td>How much is the escrow amount?</td>\n",
       "      <td>The context provided does not specify the exac...</td>\n",
       "      <td>['Purchase Price Adjustment.  If any of the Cl...</td>\n",
       "      <td>The escrow amount is equal to $1,000,000.</td>\n",
       "      <td>0.000000</td>\n",
       "      <td>1.0</td>\n",
       "      <td>1.00</td>\n",
       "      <td>0.0</td>\n",
       "    </tr>\n",
       "  </tbody>\n",
       "</table>\n",
       "</div>"
      ],
      "text/plain": [
       "                                            question  \\\n",
       "0  Under what circumstances and to what extent th...   \n",
       "1  Would the Sellers be responsible if after the ...   \n",
       "2                     How much is the escrow amount?   \n",
       "\n",
       "                                              answer  \\\n",
       "0  Based on the provided context, each Seller is ...   \n",
       "1  Yes, the Sellers would be responsible if after...   \n",
       "2  The context provided does not specify the exac...   \n",
       "\n",
       "                                            contexts  \\\n",
       "0  ['INDIVIDUAL REPRESENTATIONS AND WARRANTIES OF...   \n",
       "1  ['Losses arising out of or caused by the Selle...   \n",
       "2  ['Purchase Price Adjustment.  If any of the Cl...   \n",
       "\n",
       "                                        ground_truth  answer_relevancy  \\\n",
       "0  Except in the case of fraud the Sellers have n...          0.911028   \n",
       "1                                                No.          0.944305   \n",
       "2          The escrow amount is equal to $1,000,000.          0.000000   \n",
       "\n",
       "   context_precision  faithfulness  context_recall  \n",
       "0                1.0          1.00             0.0  \n",
       "1                1.0          0.25             1.0  \n",
       "2                1.0          1.00             0.0  "
      ]
     },
     "execution_count": 47,
     "metadata": {},
     "output_type": "execute_result"
    }
   ],
   "source": [
    "no_translation_500_50_semantic_hybrid_gpt35_DataRaptor = pd.read_csv(\"data/evaluation/no_translation_500_50_semantic_hybrid_gpt35_DataRaptor.csv\", index_col=0)\n",
    "no_translation_500_50_semantic_hybrid_gpt35_DataRaptor"
   ]
  },
  {
   "cell_type": "code",
   "execution_count": 43,
   "metadata": {},
   "outputs": [
    {
     "name": "stdout",
     "output_type": "stream",
     "text": [
      "Average of All Scores is ::  67.60263656822967  %\n",
      "Average of Context Scores is ::  66.66666666166665  %\n",
      "The Avet]rage Generation Score ::  68.53860647479269  %\n",
      "Context Precision Score ::  99.99999998999999  %\n",
      "Context Recall Score ::  33.33333333333333  %\n",
      "Answer Relevancy Score ::  62.07721294958538  %\n",
      "Faithfulness Score ::  75.0  %\n"
     ]
    }
   ],
   "source": [
    "# calculate the average score of context precision per total score\n",
    "\n",
    "context_precision_score = no_translation_500_50_semantic_hybrid_gpt35_DataRaptor['context_precision'].sum() / no_translation_500_50_semantic_hybrid_gpt35_DataRaptor['context_precision'].count() * 100\n",
    "context_recall_score = no_translation_500_50_semantic_hybrid_gpt35_DataRaptor['context_recall'].sum() / no_translation_500_50_semantic_hybrid_gpt35_DataRaptor['context_recall'].count() * 100\n",
    "faithfulness_score = no_translation_500_50_semantic_hybrid_gpt35_DataRaptor['faithfulness'].sum() / no_translation_500_50_semantic_hybrid_gpt35_DataRaptor['faithfulness'].count() * 100\n",
    "answer_relevancy_score = no_translation_500_50_semantic_hybrid_gpt35_DataRaptor['answer_relevancy'].sum() / no_translation_500_50_semantic_hybrid_gpt35_DataRaptor['answer_relevancy'].count() * 100\n",
    "\n",
    "avg_total_score = (context_precision_score + context_recall_score + faithfulness_score + answer_relevancy_score) / 4\n",
    "\n",
    "avg_context_score = (context_precision_score + context_recall_score) / 2\n",
    "\n",
    "avg_generate_score = (faithfulness_score + answer_relevancy_score) / 2\n",
    "\n",
    "print(\"Average of All Scores is :: \", avg_total_score, \" %\")\n",
    "print(\"Average of Context Scores is :: \", avg_context_score, \" %\")\n",
    "print(\"The Avet]rage Generation Score :: \", avg_generate_score, \" %\")\n",
    "print(\"Context Precision Score :: \", context_precision_score, \" %\")\n",
    "print(\"Context Recall Score :: \", context_recall_score, \" %\")\n",
    "print(\"Answer Relevancy Score :: \", answer_relevancy_score, \" %\")\n",
    "print(\"Faithfulness Score :: \", faithfulness_score, \" %\")"
   ]
  }
 ],
 "metadata": {
  "kernelspec": {
   "display_name": "Python 3",
   "language": "python",
   "name": "python3"
  },
  "language_info": {
   "codemirror_mode": {
    "name": "ipython",
    "version": 3
   },
   "file_extension": ".py",
   "mimetype": "text/x-python",
   "name": "python",
   "nbconvert_exporter": "python",
   "pygments_lexer": "ipython3",
   "version": "3.10.10"
  }
 },
 "nbformat": 4,
 "nbformat_minor": 2
}
